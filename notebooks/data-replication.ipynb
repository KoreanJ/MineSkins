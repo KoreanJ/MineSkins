{
 "cells": [
  {
   "cell_type": "markdown",
   "metadata": {},
   "source": [
    "## Data Replication"
   ]
  },
  {
   "cell_type": "markdown",
   "metadata": {},
   "source": [
    "Gather Minecraft skins from the following site: https://www.minecraftskins.com/"
   ]
  },
  {
   "cell_type": "code",
   "execution_count": 21,
   "metadata": {},
   "outputs": [],
   "source": [
    "def get_profile_links(page_html):\n",
    "    \"\"\"\n",
    "    Purpose: Get links to each skin's profile on a single page\n",
    "    Params:\n",
    "        page_html - the raw html page\n",
    "    Returns: list of profile links for that page\n",
    "    \"\"\"\n",
    "    profile_links = [x.find('a').get('href') for x in page_html.find_all('div', {'class': 'skin-img'})]\n",
    "    return profile_links"
   ]
  },
  {
   "cell_type": "code",
   "execution_count": 33,
   "metadata": {},
   "outputs": [],
   "source": [
    "def get_img_links(num_pages, url):\n",
    "    \"\"\"\n",
    "    Purpose: Gather image links to all skins for a desired number of pages\n",
    "    Params:\n",
    "        num_pages - number of pages to scrape (will stop when max is reached)\n",
    "        url - main website url\n",
    "    Returns: list of image links\n",
    "    \"\"\"\n",
    "    assert num_pages <= 50, 'Maximum number of pages to scrape is 50'\n",
    "    assert url != '', 'URL cannot be empty'\n",
    "    assert num_pages > 0, 'Cannot scrape negative or 0 pages'\n",
    "    assert url[-1] == '/', 'URL must end with \"/\"'\n",
    "    \n",
    "    # data structure for skin images\n",
    "    img_links = []\n",
    "    \n",
    "    # connect to website\n",
    "    req = r.get(url)\n",
    "    if req.ok == False:\n",
    "        print('# Error connecting to', url)\n",
    "        return\n",
    "    soup = BeautifulSoup(req.text, 'lxml')\n",
    "\n",
    "    # grab profile links on each page\n",
    "    for i in range(1, num_pages+1):\n",
    "        profile_links = [url[:-1]+x for x in get_profile_links(BeautifulSoup(r.get(url+str(i)).text, 'lxml'))]\n",
    "        \n",
    "        # for each profile obtain image link\n",
    "        for profile in profile_links:\n",
    "            req = r.get(profile)\n",
    "            if req.ok == False:\n",
    "                print('# Error accessing the following url:', profile)\n",
    "                continue\n",
    "            \n",
    "            # parse out image link\n",
    "            soup = BeautifulSoup(req.text, 'lxml')\n",
    "            img_link = soup.find('input', {'id': 'image-link-code'}).get('value')\n",
    "            if img_link is None:\n",
    "                print('# Error obtaining image from profile')\n",
    "                continue\n",
    "            img_links.append(img_link)\n",
    "            time.sleep(1)\n",
    "        \n",
    "    return img_links"
   ]
  },
  {
   "cell_type": "code",
   "execution_count": 3,
   "metadata": {},
   "outputs": [],
   "source": [
    "# imports\n",
    "import requests as r\n",
    "from bs4 import BeautifulSoup\n",
    "import time"
   ]
  },
  {
   "cell_type": "code",
   "execution_count": 31,
   "metadata": {},
   "outputs": [],
   "source": [
    "# main\n",
    "url = 'https://www.minecraftskins.com/'\n",
    "img_links = get_img_links(1, url)"
   ]
  },
  {
   "cell_type": "code",
   "execution_count": 32,
   "metadata": {},
   "outputs": [
    {
     "data": {
      "text/plain": [
       "['https://www.minecraftskins.com/uploads/skins/2020/04/22/d-r-e-a-m-s-14184007.png?v192',\n",
       " 'https://www.minecraftskins.com/uploads/skins/2020/04/23/day-one---stars-14187763.png?v192',\n",
       " 'https://www.minecraftskins.com/uploads/skins/2020/04/21/r-i-p-nan--i-love-you-always----break-14176173.png?v192',\n",
       " 'https://www.minecraftskins.com/uploads/skins/2020/04/22/----k-i-t-s-u-n-e-----14182899.png?v192',\n",
       " 'https://www.minecraftskins.com/uploads/skins/2020/04/23/ghost-gamer-boy---palette-colour-14-comp-entry--14186587.png?v192',\n",
       " 'https://www.minecraftskins.com/uploads/skins/2020/04/22/--a-r-u-a-n-d-a---14185821.png?v192',\n",
       " 'https://www.minecraftskins.com/uploads/skins/2020/04/22/sandwich-scizor-14185264.png?v192',\n",
       " 'https://www.minecraftskins.com/uploads/skins/2020/04/22/freedom-14185317.png?v192',\n",
       " 'https://www.minecraftskins.com/uploads/skins/2020/04/22/--national-earth-day---14181588.png?v192',\n",
       " 'https://www.minecraftskins.com/uploads/skins/2020/04/23/cute-girl-revamp--14186061.png?v192',\n",
       " 'https://www.minecraftskins.com/uploads/skins/2020/04/22/e-p-i-c--d-u-c-k--14184348.png?v192',\n",
       " 'https://www.minecraftskins.com/uploads/skins/2020/04/22/cotton-blossom-candy-14185767.png?v192',\n",
       " 'https://www.minecraftskins.com/uploads/skins/2020/04/23/-tiny-bee-original--enderman--transparent-background--14186805.png?v192',\n",
       " 'https://www.minecraftskins.com/uploads/skins/2020/04/23/400-followers---14187815.png?v192',\n",
       " 'https://www.minecraftskins.com/uploads/skins/2020/04/22/hello--14185070.png?v192',\n",
       " 'https://www.minecraftskins.com/uploads/skins/2020/04/23/------ares-baby-------14186009.png?v192',\n",
       " 'https://www.minecraftskins.com/uploads/skins/2020/04/22/new-shading--14185824.png?v192',\n",
       " 'https://www.minecraftskins.com/uploads/skins/2020/04/22/-tiny-bee-original--spongebob-and-gary--transparent-background---14183691.png?v192',\n",
       " 'https://www.minecraftskins.com/uploads/skins/2020/04/22/numb-14182310.png?v192',\n",
       " 'https://www.minecraftskins.com/uploads/skins/2020/04/22/-lce--under-the-stars-14180753.png?v192',\n",
       " 'https://www.minecraftskins.com/uploads/skins/2020/04/22/-zombiecleo-----request-14183549.png?v192',\n",
       " 'https://www.minecraftskins.com/uploads/skins/2020/04/23/fire-and-ice-14185978.png?v192',\n",
       " 'https://www.minecraftskins.com/uploads/skins/2020/04/23/back-in-time----cpe-14186197.png?v192',\n",
       " 'https://www.minecraftskins.com/uploads/skins/2020/04/22/checker-me-out-14182243.png?v192',\n",
       " 'https://www.minecraftskins.com/uploads/skins/2020/04/22/mermaid-love---hb-14184155.png?v192',\n",
       " 'https://www.minecraftskins.com/uploads/skins/2020/04/22/ce-for-sealoverowan-s-contest-14183092.png?v192',\n",
       " 'https://www.minecraftskins.com/uploads/skins/2020/04/23/earth-chan--3-14187645.png?v192',\n",
       " 'https://www.minecraftskins.com/uploads/skins/2020/04/22/rogue-adventuress-14185343.png?v192',\n",
       " 'https://www.minecraftskins.com/uploads/skins/2020/04/22/checker-me-out--boy-version--14182285.png?v192',\n",
       " 'https://www.minecraftskins.com/uploads/skins/2020/04/22/hidden-deep-down---namemc-remake-14184831.png?v192',\n",
       " 'https://www.minecraftskins.com/uploads/skins/2020/04/22/fish-14181464.png?v192',\n",
       " 'https://www.minecraftskins.com/uploads/skins/2020/04/22/lovers-live-and-die-fortissimo---rq-from-primowo-14183023.png?v192',\n",
       " 'https://www.minecraftskins.com/uploads/skins/2020/04/22/loserfruit-hodie--man--14185853.png?v192',\n",
       " 'https://www.minecraftskins.com/uploads/skins/2020/04/22/spiderman-no-mask-peter-parker--click-for-full-effect--14184592.png?v192',\n",
       " 'https://www.minecraftskins.com/uploads/skins/2020/04/22/papyrusssss-14182424.png?v192',\n",
       " 'https://www.minecraftskins.com/uploads/skins/2020/04/22/the-mermaid-s-love-for-the-ocean-breeze-14184388.png?v192',\n",
       " 'https://www.minecraftskins.com/uploads/skins/2020/04/23/forever-until-the-end-14186230.png?v192',\n",
       " 'https://www.minecraftskins.com/uploads/skins/2020/04/22/wowie-so-bright-14185805.png?v192',\n",
       " 'https://www.minecraftskins.com/uploads/skins/2020/04/22/b-e-a-u-t-i-f-u-l--s-h-r-e-k--14185339.png?v192',\n",
       " 'https://www.minecraftskins.com/uploads/skins/2020/04/22/broken-diamond-sword-14182111.png?v192',\n",
       " 'https://www.minecraftskins.com/uploads/skins/2020/04/22/who-would-like-to-join-the-carrot-army--14184776.png?v192',\n",
       " 'https://www.minecraftskins.com/uploads/skins/2020/04/22/--c-o-t-t-o-n------rrc---14184339.png?v192',\n",
       " 'https://www.minecraftskins.com/uploads/skins/2020/04/22/collab-w-supertwin--3-14183298.png?v192',\n",
       " 'https://www.minecraftskins.com/uploads/skins/2020/04/22/request-no-2--for-arcticfrost-c--14185635.png?v192',\n",
       " 'https://www.minecraftskins.com/uploads/skins/2020/04/22/--pearlescence-----skindex-olympics---14182022.png?v192',\n",
       " 'https://www.minecraftskins.com/uploads/skins/2020/04/22/overalls-girl-14183703.png?v192',\n",
       " 'https://www.minecraftskins.com/uploads/skins/2020/04/22/--dragon-onesie---14183588.png?v192',\n",
       " 'https://www.minecraftskins.com/uploads/skins/2020/04/22/batman--version-4-1--14182480.png?v192',\n",
       " 'https://www.minecraftskins.com/uploads/skins/2020/04/22/happy-earth-day-14183910.png?v192',\n",
       " 'https://www.minecraftskins.com/uploads/skins/2020/04/22/may-your-tears-water-the-flowers-ce-14182660.png?v192',\n",
       " 'https://www.minecraftskins.com/uploads/skins/2020/04/22/mermaid-love---hb-14183695.png?v192',\n",
       " 'https://www.minecraftskins.com/uploads/skins/2020/04/22/click-for-full-effect--trust-me-----14184223.png?v192',\n",
       " 'https://www.minecraftskins.com/uploads/skins/2020/04/21/let-s-just-keep-this-simple-14171356.png?v192',\n",
       " 'https://www.minecraftskins.com/uploads/skins/2020/04/23/made-to-my-preferences-14186353.png?v192',\n",
       " 'https://www.minecraftskins.com/uploads/skins/2020/04/21/s-k-u-l-l---r-q-14175741.png?v192',\n",
       " 'https://www.minecraftskins.com/uploads/skins/2020/04/22/cat-in-a-suit-14183987.png?v192',\n",
       " 'https://www.minecraftskins.com/uploads/skins/2020/04/23/announcement-read-desc-14187832.png?v192',\n",
       " 'https://www.minecraftskins.com/uploads/skins/2020/04/22/she-sells-seashells-by-the-seashore-14182000.png?v192']"
      ]
     },
     "execution_count": 32,
     "metadata": {},
     "output_type": "execute_result"
    }
   ],
   "source": [
    "img_links"
   ]
  },
  {
   "cell_type": "code",
   "execution_count": 6,
   "metadata": {},
   "outputs": [
    {
     "name": "stdout",
     "output_type": "stream",
     "text": [
      "Available pages to scrape: 7\n"
     ]
    }
   ],
   "source": [
    "# get count of available pages to scrape\n",
    "soup = BeautifulSoup(req.text, 'lxml')\n",
    "page_cnt = int(soup.find('div', {'class': 'pagination'}).find_all('li')[-2].text.strip())\n",
    "print('Available pages to scrape:', page_cnt)\n",
    "\n",
    "# get skin links\n",
    "links = compile_skin_links(page_cnt, req, url)"
   ]
  },
  {
   "cell_type": "code",
   "execution_count": 44,
   "metadata": {},
   "outputs": [],
   "source": [
    "from urllib.request import Request, urlopen\n",
    "from skimage import io\n",
    "import shutil"
   ]
  },
  {
   "cell_type": "code",
   "execution_count": 50,
   "metadata": {},
   "outputs": [],
   "source": [
    "# Using new links download each image\n",
    "i = 0\n",
    "for l in img_links:\n",
    "    req = Request(l, headers={'User-Agent': 'Mozilla/5.0'})\n",
    "    fname = str(i) + '.png'\n",
    "    f1 = open(fname, 'wb')\n",
    "    f1.write(urlopen(req).read())\n",
    "    f1.close()\n",
    "    shutil.move(fname, '../data')\n",
    "    i += 1\n",
    "    time.sleep(1)"
   ]
  },
  {
   "cell_type": "code",
   "execution_count": 43,
   "metadata": {
    "scrolled": true
   },
   "outputs": [
    {
     "data": {
      "text/plain": [
       "<matplotlib.image.AxesImage at 0x214502f4348>"
      ]
     },
     "execution_count": 43,
     "metadata": {},
     "output_type": "execute_result"
    },
    {
     "data": {
      "image/png": "[encoded data removed]",
      "text/plain": [
       "<Figure size 432x288 with 1 Axes>"
      ]
     },
     "metadata": {
      "needs_background": "light"
     },
     "output_type": "display_data"
    }
   ],
   "source": [
    "io.imshow(io.imread('0.png'))"
   ]
  },
  {
   "cell_type": "code",
   "execution_count": 48,
   "metadata": {},
   "outputs": [
    {
     "data": {
      "text/plain": [
       "'../data\\\\data'"
      ]
     },
     "execution_count": 48,
     "metadata": {},
     "output_type": "execute_result"
    }
   ],
   "source": [
    "shutil.move('data', '../data')"
   ]
  },
  {
   "cell_type": "code",
   "execution_count": 3,
   "metadata": {},
   "outputs": [],
   "source": [
    "import shutil\n",
    "import os"
   ]
  },
  {
   "cell_type": "code",
   "execution_count": 9,
   "metadata": {},
   "outputs": [
    {
     "ename": "FileExistsError",
     "evalue": "[WinError 183] Cannot create a file when that file already exists: '../data'",
     "output_type": "error",
     "traceback": [
      "\u001b[1;31m---------------------------------------------------------------------------\u001b[0m",
      "\u001b[1;31mFileExistsError\u001b[0m                           Traceback (most recent call last)",
      "\u001b[1;32m<ipython-input-9-3c4e89acf791>\u001b[0m in \u001b[0;36m<module>\u001b[1;34m\u001b[0m\n\u001b[0;32m      1\u001b[0m \u001b[1;31m#shutil.rmtree('../data')\u001b[0m\u001b[1;33m\u001b[0m\u001b[1;33m\u001b[0m\u001b[1;33m\u001b[0m\u001b[0m\n\u001b[1;32m----> 2\u001b[1;33m \u001b[0mos\u001b[0m\u001b[1;33m.\u001b[0m\u001b[0mmkdir\u001b[0m\u001b[1;33m(\u001b[0m\u001b[1;34m'../data'\u001b[0m\u001b[1;33m)\u001b[0m\u001b[1;33m\u001b[0m\u001b[1;33m\u001b[0m\u001b[0m\n\u001b[0m",
      "\u001b[1;31mFileExistsError\u001b[0m: [WinError 183] Cannot create a file when that file already exists: '../data'"
     ]
    }
   ],
   "source": [
    "#shutil.rmtree('../data')\n",
    "os.mkdir('../data')"
   ]
  },
  {
   "cell_type": "code",
   "execution_count": null,
   "metadata": {},
   "outputs": [],
   "source": []
  }
 ],
 "metadata": {
  "kernelspec": {
   "display_name": "Python 3",
   "language": "python",
   "name": "python3"
  },
  "language_info": {
   "codemirror_mode": {
    "name": "ipython",
    "version": 3
   },
   "file_extension": ".py",
   "mimetype": "text/x-python",
   "name": "python",
   "nbconvert_exporter": "python",
   "pygments_lexer": "ipython3",
   "version": "3.7.6"
  }
 },
 "nbformat": 4,
 "nbformat_minor": 2
}
